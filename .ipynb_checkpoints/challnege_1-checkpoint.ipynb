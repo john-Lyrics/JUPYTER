{
 "cells": [
  {
   "cell_type": "markdown",
   "metadata": {},
   "source": [
    "# 1. Converting 32 degrees to radian\n"
   ]
  },
  {
   "cell_type": "code",
   "execution_count": 7,
   "metadata": {},
   "outputs": [
    {
     "name": "stdout",
     "output_type": "stream",
     "text": [
      "0.5585053606381855 rad\n"
     ]
    }
   ],
   "source": [
    "import math\n",
    "deg=32\n",
    "rad = deg * math.pi /180\n",
    "print(rad,\"rad\")\n"
   ]
  },
  {
   "cell_type": "markdown",
   "metadata": {},
   "source": [
    "# 2. Surface area and a volume of a Sphere"
   ]
  },
  {
   "cell_type": "code",
   "execution_count": 25,
   "metadata": {},
   "outputs": [
    {
     "name": "stdout",
     "output_type": "stream",
     "text": [
      "radius4\n",
      "Area =  201.06192982974676 unit sqared\n",
      "************************************\n",
      "Volume =  268.082573106329 unit cube\n"
     ]
    }
   ],
   "source": [
    "import math\n",
    "radius=0\n",
    "radius=int(input('radius'))\n",
    "area=4 * math.pi*math.pow(radius,2)\n",
    "print('Area = ',area,\"unit sqared\")\n",
    "\n",
    "print('************************************')\n",
    "volume= (4/3)*math.pi*math.pow(radius,3)\n",
    "print('Volume = ',volume,'unit cube')"
   ]
  },
  {
   "cell_type": "markdown",
   "metadata": {},
   "source": [
    "# 3. Current time"
   ]
  },
  {
   "cell_type": "code",
   "execution_count": 21,
   "metadata": {},
   "outputs": [
    {
     "name": "stdout",
     "output_type": "stream",
     "text": [
      "Current Time : \n",
      " 19:13:36\n"
     ]
    }
   ],
   "source": [
    "import datetime\n",
    "now = datetime.datetime.now()\n",
    "print (\"Current Time : \")\n",
    "print (now.strftime(\" %H:%M:%S\"))"
   ]
  },
  {
   "cell_type": "markdown",
   "metadata": {},
   "source": [
    "# 4. words into  a sentence"
   ]
  },
  {
   "cell_type": "code",
   "execution_count": null,
   "metadata": {
    "collapsed": true
   },
   "outputs": [],
   "source": []
  },
  {
   "cell_type": "code",
   "execution_count": 10,
   "metadata": {},
   "outputs": [
    {
     "name": "stdout",
     "output_type": "stream",
     "text": [
      "['There', 'is', 'a', 'good', 'man', 'for', 'every', 'man']\n"
     ]
    }
   ],
   "source": [
    "sentence= \"There is a good man for every man\"\n",
    "\n",
    "word = sentence.split()\n",
    "\n",
    "print(word)\n"
   ]
  },
  {
   "cell_type": "markdown",
   "metadata": {},
   "source": [
    "# 5. a list into a sentence\n"
   ]
  },
  {
   "cell_type": "code",
   "execution_count": null,
   "metadata": {},
   "outputs": [],
   "source": []
  }
 ],
 "metadata": {
  "kernelspec": {
   "display_name": "Python 3",
   "language": "python",
   "name": "python3"
  },
  "language_info": {
   "codemirror_mode": {
    "name": "ipython",
    "version": 3
   },
   "file_extension": ".py",
   "mimetype": "text/x-python",
   "name": "python",
   "nbconvert_exporter": "python",
   "pygments_lexer": "ipython3",
   "version": "3.7.6"
  }
 },
 "nbformat": 4,
 "nbformat_minor": 4
}
